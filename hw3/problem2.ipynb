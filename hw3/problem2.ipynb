{
 "cells": [
  {
   "cell_type": "code",
   "execution_count": 181,
   "metadata": {},
   "outputs": [],
   "source": [
    "import tensorflow as tf\n",
    "import numpy as np\n",
    "from tensorflow import keras\n",
    "import math\n",
    "import pandas"
   ]
  },
  {
   "cell_type": "code",
   "execution_count": 182,
   "metadata": {},
   "outputs": [
    {
     "data": {
      "text/html": [
       "<div>\n",
       "<style scoped>\n",
       "    .dataframe tbody tr th:only-of-type {\n",
       "        vertical-align: middle;\n",
       "    }\n",
       "\n",
       "    .dataframe tbody tr th {\n",
       "        vertical-align: top;\n",
       "    }\n",
       "\n",
       "    .dataframe thead th {\n",
       "        text-align: right;\n",
       "    }\n",
       "</style>\n",
       "<table border=\"1\" class=\"dataframe\">\n",
       "  <thead>\n",
       "    <tr style=\"text-align: right;\">\n",
       "      <th></th>\n",
       "      <th>MPG</th>\n",
       "      <th>Cylinders</th>\n",
       "      <th>Displacement</th>\n",
       "      <th>Horsepower</th>\n",
       "      <th>Weight</th>\n",
       "      <th>Acceleration</th>\n",
       "      <th>Model Year</th>\n",
       "      <th>Europe</th>\n",
       "      <th>Japan</th>\n",
       "      <th>USA</th>\n",
       "    </tr>\n",
       "  </thead>\n",
       "  <tbody>\n",
       "    <tr>\n",
       "      <th>393</th>\n",
       "      <td>27.0</td>\n",
       "      <td>4</td>\n",
       "      <td>140.0</td>\n",
       "      <td>86.0</td>\n",
       "      <td>2790.0</td>\n",
       "      <td>15.6</td>\n",
       "      <td>82</td>\n",
       "      <td>0</td>\n",
       "      <td>0</td>\n",
       "      <td>1</td>\n",
       "    </tr>\n",
       "    <tr>\n",
       "      <th>394</th>\n",
       "      <td>44.0</td>\n",
       "      <td>4</td>\n",
       "      <td>97.0</td>\n",
       "      <td>52.0</td>\n",
       "      <td>2130.0</td>\n",
       "      <td>24.6</td>\n",
       "      <td>82</td>\n",
       "      <td>1</td>\n",
       "      <td>0</td>\n",
       "      <td>0</td>\n",
       "    </tr>\n",
       "    <tr>\n",
       "      <th>395</th>\n",
       "      <td>32.0</td>\n",
       "      <td>4</td>\n",
       "      <td>135.0</td>\n",
       "      <td>84.0</td>\n",
       "      <td>2295.0</td>\n",
       "      <td>11.6</td>\n",
       "      <td>82</td>\n",
       "      <td>0</td>\n",
       "      <td>0</td>\n",
       "      <td>1</td>\n",
       "    </tr>\n",
       "    <tr>\n",
       "      <th>396</th>\n",
       "      <td>28.0</td>\n",
       "      <td>4</td>\n",
       "      <td>120.0</td>\n",
       "      <td>79.0</td>\n",
       "      <td>2625.0</td>\n",
       "      <td>18.6</td>\n",
       "      <td>82</td>\n",
       "      <td>0</td>\n",
       "      <td>0</td>\n",
       "      <td>1</td>\n",
       "    </tr>\n",
       "    <tr>\n",
       "      <th>397</th>\n",
       "      <td>31.0</td>\n",
       "      <td>4</td>\n",
       "      <td>119.0</td>\n",
       "      <td>82.0</td>\n",
       "      <td>2720.0</td>\n",
       "      <td>19.4</td>\n",
       "      <td>82</td>\n",
       "      <td>0</td>\n",
       "      <td>0</td>\n",
       "      <td>1</td>\n",
       "    </tr>\n",
       "  </tbody>\n",
       "</table>\n",
       "</div>"
      ],
      "text/plain": [
       "      MPG  Cylinders  Displacement  Horsepower  Weight  Acceleration  \\\n",
       "393  27.0          4         140.0        86.0  2790.0          15.6   \n",
       "394  44.0          4          97.0        52.0  2130.0          24.6   \n",
       "395  32.0          4         135.0        84.0  2295.0          11.6   \n",
       "396  28.0          4         120.0        79.0  2625.0          18.6   \n",
       "397  31.0          4         119.0        82.0  2720.0          19.4   \n",
       "\n",
       "     Model Year  Europe  Japan  USA  \n",
       "393          82       0      0    1  \n",
       "394          82       1      0    0  \n",
       "395          82       0      0    1  \n",
       "396          82       0      0    1  \n",
       "397          82       0      0    1  "
      ]
     },
     "execution_count": 182,
     "metadata": {},
     "output_type": "execute_result"
    }
   ],
   "source": [
    "# x = np.array([[0.0, 0.0], [0.0, 1.0], [1.0, 0.0], [1.0, 1.0]], dtype=float)\n",
    "# y = np.array([[0.0], [0.0], [0.0], [1.0]], dtype=float)\n",
    "\n",
    "#  input x\n",
    "# x = np.random.uniform(-.5,.5,size=(100,3))\n",
    "# y = np.random.uniform(-.5,.5,size=(100,1))\n",
    "# for i in range(0,50):\n",
    "#     x[i,2] = 1\n",
    "#     y[i,0] = 0\n",
    "\n",
    "# # x1, x2 between two circles with radius 3 and 4, x3 = 1\n",
    "# for i in range(50,100):\n",
    "#     r = np.random.uniform(3.0, 4)\n",
    "#     theta = np.random.uniform(0.0,1) * 2 * math.pi\n",
    "#     x[i,0] = r * np.cos(theta)\n",
    "#     x[i,1] = r * np.sin(theta)\n",
    "#     x[i,2] = 1\n",
    "#     y[i,0] = 1\n",
    "\n",
    "# Used the following walkthrough from Tensorflow Documentation to learn how to use the dataset for training\n",
    "# https://www.tensorflow.org/tutorials/keras/regression\n",
    "\n",
    "column_names = ['MPG', 'Cylinders', 'Displacement', 'Horsepower', 'Weight',\n",
    "                'Acceleration', 'Model Year', 'Origin']\n",
    "\n",
    "dataset = pandas.read_csv(\"data/auto-mpg.data\", names=column_names,\n",
    "                          na_values='?', comment='\\t',\n",
    "                          sep=' ', skipinitialspace=True).copy().dropna()\n",
    "\n",
    "dataset['Origin'] = dataset['Origin'].map({1: 'USA', 2: 'Europe', 3: 'Japan'})\n",
    "dataset = pandas.get_dummies(dataset, columns=['Origin'], prefix='', prefix_sep='')\n",
    "dataset.tail()\n"
   ]
  },
  {
   "cell_type": "code",
   "execution_count": 183,
   "metadata": {},
   "outputs": [
    {
     "name": "stdout",
     "output_type": "stream",
     "text": [
      "[[5.47770691e+00 1.95318497e+02 1.04869446e+02 2.99025195e+03\n",
      "  1.55592356e+01 7.58980942e+01 1.78343967e-01 1.97452217e-01\n",
      "  6.24203861e-01]]\n"
     ]
    },
    {
     "name": "stderr",
     "output_type": "stream",
     "text": [
      "2022-02-14 16:53:56.542716: I tensorflow/core/grappler/optimizers/custom_graph_optimizer_registry.cc:112] Plugin optimizer for device_type GPU is enabled.\n",
      "2022-02-14 16:53:56.553448: I tensorflow/core/grappler/optimizers/custom_graph_optimizer_registry.cc:112] Plugin optimizer for device_type GPU is enabled.\n"
     ]
    }
   ],
   "source": [
    "training_data = dataset.sample(frac=0.8, random_state=0)\n",
    "test_data = dataset.drop(training_data.index)\n",
    "\n",
    "training_features = training_data.copy()\n",
    "test_features = test_data.copy()\n",
    "\n",
    "training_labels = training_features.pop('MPG')\n",
    "test_labels = test_data.pop('MPG')\n",
    "\n",
    "normalizer = tf.keras.layers.Normalization(axis=-1)\n",
    "normalizer.adapt(np.array(training_features))\n",
    "\n",
    "print(normalizer.mean.numpy())"
   ]
  },
  {
   "cell_type": "code",
   "execution_count": 184,
   "metadata": {},
   "outputs": [
    {
     "name": "stderr",
     "output_type": "stream",
     "text": [
      "2022-02-14 16:53:56.675778: I tensorflow/core/grappler/optimizers/custom_graph_optimizer_registry.cc:112] Plugin optimizer for device_type GPU is enabled.\n",
      "2022-02-14 16:53:56.687227: I tensorflow/core/grappler/optimizers/custom_graph_optimizer_registry.cc:112] Plugin optimizer for device_type GPU is enabled.\n"
     ]
    }
   ],
   "source": [
    "\n",
    "horsepower = np.array(training_features['Horsepower'])\n",
    "\n",
    "horsepower_normalizer = keras.layers.Normalization(input_shape=[1,], axis=None)\n",
    "horsepower_normalizer.adapt(horsepower)\n"
   ]
  },
  {
   "cell_type": "code",
   "execution_count": 185,
   "metadata": {},
   "outputs": [
    {
     "name": "stdout",
     "output_type": "stream",
     "text": [
      "Model: \"sequential_22\"\n",
      "_________________________________________________________________\n",
      " Layer (type)                Output Shape              Param #   \n",
      "=================================================================\n",
      " normalization_42 (Normaliza  (None, 9)                19        \n",
      " tion)                                                           \n",
      "                                                                 \n",
      " dense_28 (Dense)            (None, 1)                 10        \n",
      "                                                                 \n",
      "=================================================================\n",
      "Total params: 29\n",
      "Trainable params: 10\n",
      "Non-trainable params: 19\n",
      "_________________________________________________________________\n"
     ]
    }
   ],
   "source": [
    "# model = tf.keras.Sequential([\n",
    "#    keras.layers.Dense(units=1, input_shape=[2], activation=tf.nn.relu)])\n",
    "# model = tf.keras.Sequential([\n",
    "#   keras.layers.Dense(units=4, input_shape=[None,3], activation=tf.nn.relu),\n",
    "# keras.layers.Dense(units=5, activation=tf.nn.relu),\n",
    "# keras.layers.Dense(units=1, activation=tf.nn.sigmoid)])\n",
    "\n",
    "model = tf.keras.Sequential([\n",
    "  normalizer,\n",
    "  keras.layers.Dense(units=1)\n",
    "])\n",
    "\n",
    "model.summary()"
   ]
  },
  {
   "cell_type": "code",
   "execution_count": 186,
   "metadata": {},
   "outputs": [
    {
     "name": "stderr",
     "output_type": "stream",
     "text": [
      "2022-02-14 16:53:56.847058: I tensorflow/core/grappler/optimizers/custom_graph_optimizer_registry.cc:112] Plugin optimizer for device_type GPU is enabled.\n"
     ]
    },
    {
     "data": {
      "text/plain": [
       "array([[-1.6832452 ],\n",
       "       [-0.09856419],\n",
       "       [ 1.914506  ],\n",
       "       [-2.0366998 ],\n",
       "       [-1.5918509 ],\n",
       "       [ 0.05634813],\n",
       "       [-1.7655438 ],\n",
       "       [ 1.7616717 ],\n",
       "       [-0.13857298],\n",
       "       [-0.65949595]], dtype=float32)"
      ]
     },
     "execution_count": 186,
     "metadata": {},
     "output_type": "execute_result"
    }
   ],
   "source": [
    "\n",
    "# model.predict(training_features[:10])\n",
    "model.predict(np.asarray(training_features[:10]))"
   ]
  },
  {
   "cell_type": "code",
   "execution_count": 187,
   "metadata": {},
   "outputs": [],
   "source": [
    "# model.compile(optimizer='adam', loss='mean_squared_error')\n",
    "# model.compile(optimizer='adam', loss='mean_squared_error')\n",
    "model.compile(\n",
    "    optimizer=tf.optimizers.Adam(learning_rate=0.1),\n",
    "    loss='mean_absolute_error')\n"
   ]
  },
  {
   "cell_type": "code",
   "execution_count": 188,
   "metadata": {},
   "outputs": [
    {
     "name": "stdout",
     "output_type": "stream",
     "text": [
      "Epoch 1/100\n",
      "8/8 [==============================] - 0s 17ms/step - loss: 22.9419 - val_loss: 22.8667\n"
     ]
    },
    {
     "name": "stderr",
     "output_type": "stream",
     "text": [
      "2022-02-14 16:53:57.084273: I tensorflow/core/grappler/optimizers/custom_graph_optimizer_registry.cc:112] Plugin optimizer for device_type GPU is enabled.\n",
      "2022-02-14 16:53:57.239338: I tensorflow/core/grappler/optimizers/custom_graph_optimizer_registry.cc:112] Plugin optimizer for device_type GPU is enabled.\n"
     ]
    },
    {
     "name": "stdout",
     "output_type": "stream",
     "text": [
      "Epoch 2/100\n",
      "8/8 [==============================] - 0s 7ms/step - loss: 22.0850 - val_loss: 22.1271\n",
      "Epoch 3/100\n",
      "8/8 [==============================] - 0s 7ms/step - loss: 21.2724 - val_loss: 21.3820\n",
      "Epoch 4/100\n",
      "8/8 [==============================] - 0s 8ms/step - loss: 20.4518 - val_loss: 20.6539\n",
      "Epoch 5/100\n",
      "8/8 [==============================] - 0s 7ms/step - loss: 19.6505 - val_loss: 19.9463\n",
      "Epoch 6/100\n",
      "8/8 [==============================] - 0s 7ms/step - loss: 18.8096 - val_loss: 19.2075\n",
      "Epoch 7/100\n",
      "8/8 [==============================] - 0s 7ms/step - loss: 17.9844 - val_loss: 18.4728\n",
      "Epoch 8/100\n",
      "8/8 [==============================] - 0s 7ms/step - loss: 17.1922 - val_loss: 17.7502\n",
      "Epoch 9/100\n",
      "8/8 [==============================] - 0s 9ms/step - loss: 16.3798 - val_loss: 17.0191\n",
      "Epoch 10/100\n",
      "8/8 [==============================] - 0s 8ms/step - loss: 15.5597 - val_loss: 16.2939\n",
      "Epoch 11/100\n",
      "8/8 [==============================] - 0s 9ms/step - loss: 14.7817 - val_loss: 15.5712\n",
      "Epoch 12/100\n",
      "8/8 [==============================] - 0s 17ms/step - loss: 13.9447 - val_loss: 14.8412\n",
      "Epoch 13/100\n",
      "8/8 [==============================] - 0s 9ms/step - loss: 13.1328 - val_loss: 14.1193\n",
      "Epoch 14/100\n",
      "8/8 [==============================] - 0s 7ms/step - loss: 12.3499 - val_loss: 13.4554\n",
      "Epoch 15/100\n",
      "8/8 [==============================] - 0s 6ms/step - loss: 11.5014 - val_loss: 12.6768\n",
      "Epoch 16/100\n",
      "8/8 [==============================] - 0s 6ms/step - loss: 10.7649 - val_loss: 11.9067\n",
      "Epoch 17/100\n",
      "8/8 [==============================] - 0s 6ms/step - loss: 9.9095 - val_loss: 11.2244\n",
      "Epoch 18/100\n",
      "8/8 [==============================] - 0s 6ms/step - loss: 9.1231 - val_loss: 10.5308\n",
      "Epoch 19/100\n",
      "8/8 [==============================] - 0s 7ms/step - loss: 8.3799 - val_loss: 9.7448\n",
      "Epoch 20/100\n",
      "8/8 [==============================] - 0s 6ms/step - loss: 7.6522 - val_loss: 9.0795\n",
      "Epoch 21/100\n",
      "8/8 [==============================] - 0s 6ms/step - loss: 6.9767 - val_loss: 8.3374\n",
      "Epoch 22/100\n",
      "8/8 [==============================] - 0s 6ms/step - loss: 6.3627 - val_loss: 7.6582\n",
      "Epoch 23/100\n",
      "8/8 [==============================] - 0s 6ms/step - loss: 5.7668 - val_loss: 7.0786\n",
      "Epoch 24/100\n",
      "8/8 [==============================] - 0s 7ms/step - loss: 5.2624 - val_loss: 6.6503\n",
      "Epoch 25/100\n",
      "8/8 [==============================] - 0s 8ms/step - loss: 4.7889 - val_loss: 5.8828\n",
      "Epoch 26/100\n",
      "8/8 [==============================] - 0s 7ms/step - loss: 4.3680 - val_loss: 5.0733\n",
      "Epoch 27/100\n",
      "8/8 [==============================] - 0s 7ms/step - loss: 3.9197 - val_loss: 4.4785\n",
      "Epoch 28/100\n",
      "8/8 [==============================] - 0s 6ms/step - loss: 3.4859 - val_loss: 3.8186\n",
      "Epoch 29/100\n",
      "8/8 [==============================] - 0s 6ms/step - loss: 3.1357 - val_loss: 3.4252\n",
      "Epoch 30/100\n",
      "8/8 [==============================] - 0s 6ms/step - loss: 2.9250 - val_loss: 3.0134\n",
      "Epoch 31/100\n",
      "8/8 [==============================] - 0s 6ms/step - loss: 2.7655 - val_loss: 2.8427\n",
      "Epoch 32/100\n",
      "8/8 [==============================] - 0s 6ms/step - loss: 2.6600 - val_loss: 2.7941\n",
      "Epoch 33/100\n",
      "8/8 [==============================] - 0s 6ms/step - loss: 2.6661 - val_loss: 2.6297\n",
      "Epoch 34/100\n",
      "8/8 [==============================] - 0s 8ms/step - loss: 2.5330 - val_loss: 2.6910\n",
      "Epoch 35/100\n",
      "8/8 [==============================] - 0s 9ms/step - loss: 2.5261 - val_loss: 2.6074\n",
      "Epoch 36/100\n",
      "8/8 [==============================] - 0s 9ms/step - loss: 2.4989 - val_loss: 2.5799\n",
      "Epoch 37/100\n",
      "8/8 [==============================] - 0s 8ms/step - loss: 2.4948 - val_loss: 2.5803\n",
      "Epoch 38/100\n",
      "8/8 [==============================] - 0s 7ms/step - loss: 2.4906 - val_loss: 2.5131\n",
      "Epoch 39/100\n",
      "8/8 [==============================] - 0s 6ms/step - loss: 2.4734 - val_loss: 2.5038\n",
      "Epoch 40/100\n",
      "8/8 [==============================] - 0s 6ms/step - loss: 2.4775 - val_loss: 2.4838\n",
      "Epoch 41/100\n",
      "8/8 [==============================] - 0s 6ms/step - loss: 2.4879 - val_loss: 2.4903\n",
      "Epoch 42/100\n",
      "8/8 [==============================] - 0s 7ms/step - loss: 2.4720 - val_loss: 2.4866\n",
      "Epoch 43/100\n",
      "8/8 [==============================] - 0s 9ms/step - loss: 2.4805 - val_loss: 2.4950\n",
      "Epoch 44/100\n",
      "8/8 [==============================] - 0s 13ms/step - loss: 2.4768 - val_loss: 2.4635\n",
      "Epoch 45/100\n",
      "8/8 [==============================] - 0s 8ms/step - loss: 2.4850 - val_loss: 2.4931\n",
      "Epoch 46/100\n",
      "8/8 [==============================] - 0s 8ms/step - loss: 2.4824 - val_loss: 2.4651\n",
      "Epoch 47/100\n",
      "8/8 [==============================] - 0s 7ms/step - loss: 2.5139 - val_loss: 2.4731\n",
      "Epoch 48/100\n",
      "8/8 [==============================] - 0s 7ms/step - loss: 2.4851 - val_loss: 2.4860\n",
      "Epoch 49/100\n",
      "8/8 [==============================] - 0s 6ms/step - loss: 2.4776 - val_loss: 2.4639\n",
      "Epoch 50/100\n",
      "8/8 [==============================] - 0s 6ms/step - loss: 2.4901 - val_loss: 2.5527\n",
      "Epoch 51/100\n",
      "8/8 [==============================] - 0s 7ms/step - loss: 2.4710 - val_loss: 2.4989\n",
      "Epoch 52/100\n",
      "8/8 [==============================] - 0s 9ms/step - loss: 2.4829 - val_loss: 2.4993\n",
      "Epoch 53/100\n",
      "8/8 [==============================] - 0s 9ms/step - loss: 2.4914 - val_loss: 2.4726\n",
      "Epoch 54/100\n",
      "8/8 [==============================] - 0s 8ms/step - loss: 2.5195 - val_loss: 2.4792\n",
      "Epoch 55/100\n",
      "8/8 [==============================] - 0s 8ms/step - loss: 2.4935 - val_loss: 2.4588\n",
      "Epoch 56/100\n",
      "8/8 [==============================] - 0s 8ms/step - loss: 2.4924 - val_loss: 2.4646\n",
      "Epoch 57/100\n",
      "8/8 [==============================] - 0s 7ms/step - loss: 2.4663 - val_loss: 2.5221\n",
      "Epoch 58/100\n",
      "8/8 [==============================] - 0s 7ms/step - loss: 2.4989 - val_loss: 2.4839\n",
      "Epoch 59/100\n",
      "8/8 [==============================] - 0s 7ms/step - loss: 2.4762 - val_loss: 2.5262\n",
      "Epoch 60/100\n",
      "8/8 [==============================] - 0s 7ms/step - loss: 2.4865 - val_loss: 2.4914\n",
      "Epoch 61/100\n",
      "8/8 [==============================] - 0s 7ms/step - loss: 2.4866 - val_loss: 2.5309\n",
      "Epoch 62/100\n",
      "8/8 [==============================] - 0s 6ms/step - loss: 2.5098 - val_loss: 2.4851\n",
      "Epoch 63/100\n",
      "8/8 [==============================] - 0s 7ms/step - loss: 2.4629 - val_loss: 2.5002\n",
      "Epoch 64/100\n",
      "8/8 [==============================] - 0s 6ms/step - loss: 2.4837 - val_loss: 2.4607\n",
      "Epoch 65/100\n",
      "8/8 [==============================] - 0s 6ms/step - loss: 2.4795 - val_loss: 2.5015\n",
      "Epoch 66/100\n",
      "8/8 [==============================] - 0s 6ms/step - loss: 2.4915 - val_loss: 2.4592\n",
      "Epoch 67/100\n",
      "8/8 [==============================] - 0s 6ms/step - loss: 2.4832 - val_loss: 2.4914\n",
      "Epoch 68/100\n",
      "8/8 [==============================] - 0s 6ms/step - loss: 2.4810 - val_loss: 2.4582\n",
      "Epoch 69/100\n",
      "8/8 [==============================] - 0s 6ms/step - loss: 2.4924 - val_loss: 2.5084\n",
      "Epoch 70/100\n",
      "8/8 [==============================] - 0s 6ms/step - loss: 2.4782 - val_loss: 2.4488\n",
      "Epoch 71/100\n",
      "8/8 [==============================] - 0s 6ms/step - loss: 2.4816 - val_loss: 2.4933\n",
      "Epoch 72/100\n",
      "8/8 [==============================] - 0s 6ms/step - loss: 2.4828 - val_loss: 2.4884\n",
      "Epoch 73/100\n",
      "8/8 [==============================] - 0s 6ms/step - loss: 2.4805 - val_loss: 2.4544\n",
      "Epoch 74/100\n",
      "8/8 [==============================] - 0s 6ms/step - loss: 2.4847 - val_loss: 2.5095\n",
      "Epoch 75/100\n",
      "8/8 [==============================] - 0s 6ms/step - loss: 2.5041 - val_loss: 2.4658\n",
      "Epoch 76/100\n",
      "8/8 [==============================] - 0s 6ms/step - loss: 2.4986 - val_loss: 2.5007\n",
      "Epoch 77/100\n",
      "8/8 [==============================] - 0s 6ms/step - loss: 2.4735 - val_loss: 2.4604\n",
      "Epoch 78/100\n",
      "8/8 [==============================] - 0s 6ms/step - loss: 2.4875 - val_loss: 2.4851\n",
      "Epoch 79/100\n",
      "8/8 [==============================] - 0s 6ms/step - loss: 2.4788 - val_loss: 2.4527\n",
      "Epoch 80/100\n",
      "8/8 [==============================] - 0s 6ms/step - loss: 2.4729 - val_loss: 2.4543\n",
      "Epoch 81/100\n",
      "8/8 [==============================] - 0s 6ms/step - loss: 2.4677 - val_loss: 2.4899\n",
      "Epoch 82/100\n",
      "8/8 [==============================] - 0s 6ms/step - loss: 2.4815 - val_loss: 2.4716\n",
      "Epoch 83/100\n",
      "8/8 [==============================] - 0s 6ms/step - loss: 2.4744 - val_loss: 2.4733\n",
      "Epoch 84/100\n",
      "8/8 [==============================] - 0s 6ms/step - loss: 2.5282 - val_loss: 2.4641\n",
      "Epoch 85/100\n",
      "8/8 [==============================] - 0s 6ms/step - loss: 2.4872 - val_loss: 2.4595\n",
      "Epoch 86/100\n",
      "8/8 [==============================] - 0s 6ms/step - loss: 2.4720 - val_loss: 2.4603\n",
      "Epoch 87/100\n",
      "8/8 [==============================] - 0s 6ms/step - loss: 2.4800 - val_loss: 2.4712\n",
      "Epoch 88/100\n",
      "8/8 [==============================] - 0s 6ms/step - loss: 2.4707 - val_loss: 2.4800\n",
      "Epoch 89/100\n",
      "8/8 [==============================] - 0s 6ms/step - loss: 2.4730 - val_loss: 2.4670\n",
      "Epoch 90/100\n",
      "8/8 [==============================] - 0s 6ms/step - loss: 2.4915 - val_loss: 2.4733\n",
      "Epoch 91/100\n",
      "8/8 [==============================] - 0s 6ms/step - loss: 2.4968 - val_loss: 2.4672\n",
      "Epoch 92/100\n",
      "8/8 [==============================] - 0s 6ms/step - loss: 2.4865 - val_loss: 2.4567\n",
      "Epoch 93/100\n",
      "8/8 [==============================] - 0s 6ms/step - loss: 2.4714 - val_loss: 2.4940\n",
      "Epoch 94/100\n",
      "8/8 [==============================] - 0s 6ms/step - loss: 2.4743 - val_loss: 2.4672\n",
      "Epoch 95/100\n",
      "8/8 [==============================] - 0s 6ms/step - loss: 2.4706 - val_loss: 2.5325\n",
      "Epoch 96/100\n",
      "8/8 [==============================] - 0s 6ms/step - loss: 2.4670 - val_loss: 2.4734\n",
      "Epoch 97/100\n",
      "8/8 [==============================] - 0s 7ms/step - loss: 2.4694 - val_loss: 2.4951\n",
      "Epoch 98/100\n",
      "8/8 [==============================] - 0s 12ms/step - loss: 2.4792 - val_loss: 2.4589\n",
      "Epoch 99/100\n",
      "8/8 [==============================] - 0s 7ms/step - loss: 2.4959 - val_loss: 2.4719\n",
      "Epoch 100/100\n",
      "8/8 [==============================] - 0s 8ms/step - loss: 2.4747 - val_loss: 2.4611\n"
     ]
    }
   ],
   "source": [
    "history = model.fit(\n",
    "    np.asarray(training_features),\n",
    "    np.asarray(training_labels),\n",
    "    epochs=100,\n",
    "    # Calculate validation results on 20% of the training data.\n",
    "    validation_split = 0.2)\n"
   ]
  },
  {
   "cell_type": "code",
   "execution_count": 189,
   "metadata": {},
   "outputs": [
    {
     "name": "stdout",
     "output_type": "stream",
     "text": [
      "[[26.077099]\n",
      " [24.636162]\n",
      " [12.188329]\n",
      " [31.114946]\n",
      " [32.52069 ]\n",
      " [22.354626]\n",
      " [33.224373]\n",
      " [24.756727]\n",
      " [20.492535]\n",
      " [26.846601]]\n"
     ]
    },
    {
     "name": "stderr",
     "output_type": "stream",
     "text": [
      "2022-02-14 16:54:02.762991: I tensorflow/core/grappler/optimizers/custom_graph_optimizer_registry.cc:112] Plugin optimizer for device_type GPU is enabled.\n"
     ]
    }
   ],
   "source": [
    "print(model.predict(np.asarray(training_features[:10])))"
   ]
  },
  {
   "cell_type": "code",
   "execution_count": 191,
   "metadata": {},
   "outputs": [
    {
     "data": {
      "image/png": "[encoded data removed]",
      "text/plain": [
       "<Figure size 432x288 with 1 Axes>"
      ]
     },
     "metadata": {
      "needs_background": "light"
     },
     "output_type": "display_data"
    },
    {
     "data": {
      "text/plain": [
       "<Figure size 432x288 with 0 Axes>"
      ]
     },
     "metadata": {},
     "output_type": "display_data"
    }
   ],
   "source": [
    "import matplotlib.pyplot as plt\n",
    "\n",
    "loss = history.history['loss']\n",
    "\n",
    "\n",
    "epochs = range(len(loss))\n",
    "\n",
    "plt.plot(epochs, loss, 'r', label='Error')\n",
    "\n",
    "plt.title('Loss Curve')\n",
    "plt.legend(loc=0)\n",
    "plt.figure()\n",
    "\n",
    "\n",
    "plt.show()"
   ]
  },
  {
   "cell_type": "code",
   "execution_count": null,
   "metadata": {},
   "outputs": [],
   "source": []
  }
 ],
 "metadata": {
  "interpreter": {
   "hash": "21a601794a7cd45889532e042ab1191391bed29783ca1b1cad2908006cea832d"
  },
  "kernelspec": {
   "display_name": "Python 3.9.9 64-bit ('cps584': conda)",
   "language": "python",
   "name": "python3"
  },
  "language_info": {
   "codemirror_mode": {
    "name": "ipython",
    "version": 3
   },
   "file_extension": ".py",
   "mimetype": "text/x-python",
   "name": "python",
   "nbconvert_exporter": "python",
   "pygments_lexer": "ipython3",
   "version": "3.9.9"
  }
 },
 "nbformat": 4,
 "nbformat_minor": 4
}
