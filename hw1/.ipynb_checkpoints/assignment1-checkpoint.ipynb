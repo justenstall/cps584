{
 "cells": [
  {
   "cell_type": "code",
   "execution_count": 2,
   "id": "a6fb1b8c-ad0f-4570-abba-f1f3222e9071",
   "metadata": {},
   "outputs": [
    {
     "data": {
      "image/png": "[encoded data removed]",
      "text/plain": [
       "<Figure size 432x288 with 1 Axes>"
      ]
     },
     "metadata": {
      "needs_background": "light"
     },
     "output_type": "display_data"
    }
   ],
   "source": [
    "import numpy as np\n",
    "from matplotlib import pyplot as plt\n",
    "import random\n",
    "import math\n",
    "import copy\n",
    "\n",
    "x1 = [-1,-1,1,1]\n",
    "x2 = [-1,1,-1,1]\n",
    "\n",
    "#  expected output\n",
    "t = [1,1,1,0]\n",
    "\n",
    "# Generating random weights \n",
    "w1 = random.uniform(-2.0,2)\n",
    "w2 = random.uniform(-2.0,2)\n",
    "# bias \n",
    "w3 = random.uniform(-2.0,2)\n",
    "\n",
    "#Learning rate\n",
    "lr = 0.1\n",
    "\n",
    "output = []\n",
    "\n",
    "flag = False\n",
    "count = 1\n",
    "k = np.linspace(-3,3,num= 5)\n",
    "\n",
    "plt.xlabel(\"x1-axis\")\n",
    "plt.ylabel(\"x2-axis\")\n",
    "plt.axis([-1.5,3,-1.5,3])\n",
    "\n",
    "for i in range(0,4):\n",
    "    if t[i]>0:\n",
    "        # mark output one using a blue circle\n",
    "        plt.scatter(x1[i],x2[i],marker=\"o\",c=\"b\")\n",
    "    else:\n",
    "        # mark output zero using a red square\n",
    "        plt.scatter(x1[i],x2[i],marker=\"s\",c=\"r\")\n",
    "\n",
    "l = -((w3+(k*w1))/w2)\n",
    "plt.plot(k,l,linestyle='--',c='r')\n",
    "\n",
    "plt.show()"
   ]
  },
  {
   "cell_type": "code",
   "execution_count": 1,
   "id": "093978a0-10d5-4534-9a6f-d258bfbe46ed",
   "metadata": {},
   "outputs": [
    {
     "ename": "TypeError",
     "evalue": "'module' object is not callable",
     "output_type": "error",
     "traceback": [
      "\u001b[0;31m---------------------------------------------------------------------------\u001b[0m",
      "\u001b[0;31mTypeError\u001b[0m                                 Traceback (most recent call last)",
      "\u001b[0;32m/var/folders/c8/6jz4vsn50nq6t_2wjqr3x8tm0000gn/T/ipykernel_92188/15370604.py\u001b[0m in \u001b[0;36m<module>\u001b[0;34m\u001b[0m\n\u001b[1;32m     36\u001b[0m     \u001b[0;32mreturn\u001b[0m \u001b[0msqrt\u001b[0m\u001b[0;34m(\u001b[0m\u001b[0;34m(\u001b[0m\u001b[0mx1\u001b[0m\u001b[0;34m)\u001b[0m\u001b[0;34m**\u001b[0m\u001b[0;36m2\u001b[0m\u001b[0;34m+\u001b[0m\u001b[0;34m(\u001b[0m\u001b[0mx2\u001b[0m\u001b[0;34m)\u001b[0m\u001b[0;34m**\u001b[0m\u001b[0;36m2\u001b[0m\u001b[0;34m)\u001b[0m\u001b[0;34m\u001b[0m\u001b[0;34m\u001b[0m\u001b[0m\n\u001b[1;32m     37\u001b[0m \u001b[0;34m\u001b[0m\u001b[0m\n\u001b[0;32m---> 38\u001b[0;31m \u001b[0mprint\u001b[0m\u001b[0;34m(\u001b[0m\u001b[0mgenerateTargetZeroX\u001b[0m\u001b[0;34m(\u001b[0m\u001b[0;36m10\u001b[0m\u001b[0;34m)\u001b[0m\u001b[0;34m)\u001b[0m\u001b[0;34m\u001b[0m\u001b[0;34m\u001b[0m\u001b[0m\n\u001b[0m",
      "\u001b[0;32m/var/folders/c8/6jz4vsn50nq6t_2wjqr3x8tm0000gn/T/ipykernel_92188/15370604.py\u001b[0m in \u001b[0;36mgenerateTargetZeroX\u001b[0;34m(n)\u001b[0m\n\u001b[1;32m      6\u001b[0m     \u001b[0mxList\u001b[0m \u001b[0;34m=\u001b[0m \u001b[0;34m[\u001b[0m\u001b[0;34m]\u001b[0m\u001b[0;34m\u001b[0m\u001b[0;34m\u001b[0m\u001b[0m\n\u001b[1;32m      7\u001b[0m     \u001b[0;32mfor\u001b[0m \u001b[0mx\u001b[0m \u001b[0;32min\u001b[0m \u001b[0mrange\u001b[0m\u001b[0;34m(\u001b[0m\u001b[0mn\u001b[0m\u001b[0;34m)\u001b[0m\u001b[0;34m:\u001b[0m\u001b[0;34m\u001b[0m\u001b[0;34m\u001b[0m\u001b[0m\n\u001b[0;32m----> 8\u001b[0;31m         \u001b[0mx1\u001b[0m \u001b[0;34m=\u001b[0m \u001b[0mrandom\u001b[0m\u001b[0;34m(\u001b[0m\u001b[0;34m)\u001b[0m \u001b[0;34m-\u001b[0m \u001b[0;36m.5\u001b[0m\u001b[0;34m\u001b[0m\u001b[0;34m\u001b[0m\u001b[0m\n\u001b[0m\u001b[1;32m      9\u001b[0m         \u001b[0mx2\u001b[0m \u001b[0;34m=\u001b[0m \u001b[0mrandom\u001b[0m\u001b[0;34m(\u001b[0m\u001b[0;34m)\u001b[0m \u001b[0;34m-\u001b[0m \u001b[0;36m.5\u001b[0m\u001b[0;34m\u001b[0m\u001b[0;34m\u001b[0m\u001b[0m\n\u001b[1;32m     10\u001b[0m         \u001b[0mxList\u001b[0m\u001b[0;34m.\u001b[0m\u001b[0mappend\u001b[0m\u001b[0;34m(\u001b[0m\u001b[0;34m[\u001b[0m\u001b[0mx1\u001b[0m\u001b[0;34m,\u001b[0m \u001b[0mx2\u001b[0m\u001b[0;34m]\u001b[0m\u001b[0;34m)\u001b[0m\u001b[0;34m\u001b[0m\u001b[0;34m\u001b[0m\u001b[0m\n",
      "\u001b[0;31mTypeError\u001b[0m: 'module' object is not callable"
     ]
    }
   ],
   "source": [
    "\n",
    "# import matplotlib.pyplot as plt\n",
    "# import random\n",
    "# from math import sqrt\n",
    "\n",
    "# def generateTargetZeroX(n):\n",
    "#     xList = []\n",
    "#     for x in range(n):\n",
    "#         x1 = random.random() - .5\n",
    "#         x2 = random.random() - .5\n",
    "#         xList.append([x1, x2])\n",
    "#     return xList\n",
    "\n",
    "# def generateTargetZeroT(n):\n",
    "#     tList = []\n",
    "#     for t in range(n):\n",
    "#         tList.append([0])\n",
    "#     return tList\n",
    "\n",
    "# def generateTargetOneX(n):\n",
    "#     xList = []\n",
    "#     for x in range(n):\n",
    "#         x1 = random.randrange(-4, 4)\n",
    "#         x2 = random.randrange(-4, 4)\n",
    "        \n",
    "        \n",
    "#         xList.append([x1, x2])\n",
    "#     return xList\n",
    "\n",
    "# def generateTargetOneT(n):\n",
    "#     tList = []\n",
    "#     for t in range(n):\n",
    "#         tList.append([1])\n",
    "#     return tList\n",
    "\n",
    "# def distanceFromOrigin(x1, x2):\n",
    "#     return sqrt((x1)**2+(x2)**2)\n",
    "\n",
    "# print(generateTargetZeroX(10))\n"
   ]
  },
  {
   "cell_type": "code",
   "execution_count": null,
   "id": "68b4178c-2b1c-4332-976f-42e168b78422",
   "metadata": {},
   "outputs": [],
   "source": []
  },
  {
   "cell_type": "code",
   "execution_count": null,
   "id": "1bcaa7ee-639a-409c-8ba0-dad9466fcdec",
   "metadata": {},
   "outputs": [],
   "source": []
  }
 ],
 "metadata": {
  "kernelspec": {
   "display_name": "Python 3 (ipykernel)",
   "language": "python",
   "name": "python3"
  },
  "language_info": {
   "codemirror_mode": {
    "name": "ipython",
    "version": 3
   },
   "file_extension": ".py",
   "mimetype": "text/x-python",
   "name": "python",
   "nbconvert_exporter": "python",
   "pygments_lexer": "ipython3",
   "version": "3.9.9"
  }
 },
 "nbformat": 4,
 "nbformat_minor": 5
}
